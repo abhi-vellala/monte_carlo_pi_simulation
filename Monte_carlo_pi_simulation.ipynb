{
 "cells": [
  {
   "cell_type": "markdown",
   "metadata": {},
   "source": [
    "# Pi Simulation using Monte Carlo\n",
    "\n",
    "Pi value can be simulated by using Monte Carlo technique by drawing random numbers around the area of square of length 2R and with a circle inside the square with a radius R.\n",
    "\n",
    "### Calculation \n",
    "**Step 1:**\n",
    "Consider a circle around the x-y axis with center as (0,0) and radius as 1(R). The square around the circle will have the length of 2 which is the diameter of circle(2R).\n",
    "\n",
    "**Step 2:**\n",
    "Imagine rain drops falling on this space. The drops falling inside the cricle will help us to estimate the area of circle and the rain drops in the space wihtin the square will help us to estimate the are of square. \n",
    "\n",
    "**Step 3:**\n",
    "So, let's assume, the area of circle and the area of square as the total of number of drops inside the Circle(C) and Square(S). This can be interpretted as:\n",
    "\n",
    "$area(square) \\approx area(circle)$\n",
    "\n",
    "$(2R)^2 * S \\approx \\pi R^2 * C$\n",
    "\n",
    "$4R^2 *S \\approx \\pi R^2*C$\n",
    "\n",
    "$4S \\approx \\pi C$\n",
    "\n",
    "$\\pi \\approx \\frac{4S}{C}$\n",
    "\n",
    "### Simulation\n",
    "**Step 1:**\n",
    "Draw 2 uniform random numbers from (-1,1) and consider them as point at (x,y)\n",
    "\n",
    "**Step 2:**\n",
    "If the sum of square of coordinates of random numbers is less than 1(R of circle), then the point is within circle else, the point is outside circle but within square. So, initilize S and C as 0. For every cycle of random number generation if the sum of the of square of coordinates of random number is less than 1(R of circle), then it is counted as C as well as S else, only S is counted.\n",
    "\n",
    "**Step 3:**\n",
    "Calculate the value of pi using the above formula(4S/C). "
   ]
  },
  {
   "cell_type": "code",
   "execution_count": 4,
   "metadata": {},
   "outputs": [],
   "source": [
    "\n",
    "import random\n",
    "def pi_simulation():\n",
    "    print(\"Welcome to the Monty Carlo PI program!\")\n",
    "    while True:\n",
    "        n = input(\"Please enter a number of points (or the letter \\\"q\\\" to quit): \")\n",
    "        if n == \"q\":\n",
    "            print(\"Thank you for choosing Monty Carlo.\")\n",
    "            break\n",
    "        else:\n",
    "            n = int(n)\n",
    "            c = 0 # Initialize C\n",
    "            s = 0 # Initialize S\n",
    "            for num in range(0,n):\n",
    "                # generating random points for x and y coordinates\n",
    "                x = random.uniform(-1,1)\n",
    "                y = random.uniform(-1,1)\n",
    "                s = s + 1\n",
    "                 #check if the sum of xsq and ysq is less than 1 to count C. If greater they fall outside the circle.\n",
    "                if x**2 + y**2 < 1:\n",
    "                    c += 1\n",
    "        pi = 4*c/s# using formula generated \n",
    "        print(f\"Using {n} point we(this time) got the following value for pi: {pi}\")\n",
    "        print(f\"This would mean that tau (2xPI) would be: {2*pi}\")"
   ]
  },
  {
   "cell_type": "code",
   "execution_count": 5,
   "metadata": {},
   "outputs": [
    {
     "name": "stdout",
     "output_type": "stream",
     "text": [
      "Welcome to the Monty Carlo PI program!\n"
     ]
    },
    {
     "name": "stdin",
     "output_type": "stream",
     "text": [
      "Please enter a number of points (or the letter \"q\" to quit):  100\n"
     ]
    },
    {
     "name": "stdout",
     "output_type": "stream",
     "text": [
      "Using 100 point we(this time) got the following value for pi: 3.24\n",
      "This would mean that tau (2xPI) would be: 6.48\n"
     ]
    },
    {
     "name": "stdin",
     "output_type": "stream",
     "text": [
      "Please enter a number of points (or the letter \"q\" to quit):  1000\n"
     ]
    },
    {
     "name": "stdout",
     "output_type": "stream",
     "text": [
      "Using 1000 point we(this time) got the following value for pi: 3.108\n",
      "This would mean that tau (2xPI) would be: 6.216\n"
     ]
    },
    {
     "name": "stdin",
     "output_type": "stream",
     "text": [
      "Please enter a number of points (or the letter \"q\" to quit):  q\n"
     ]
    },
    {
     "name": "stdout",
     "output_type": "stream",
     "text": [
      "Thank you for choosing Monty Carlo.\n"
     ]
    }
   ],
   "source": [
    "pi_simulation()"
   ]
  },
  {
   "cell_type": "markdown",
   "metadata": {},
   "source": [
    "## Maximum relative error of the simulated Pi value\n",
    "\n",
    "The error is checekd with the actual value of Pi for each simulation for 1000 draws(points) for a total of 100 simulations.\n",
    "\n",
    "The Maximum Relative Error is then calculated. "
   ]
  },
  {
   "cell_type": "code",
   "execution_count": 14,
   "metadata": {},
   "outputs": [
    {
     "name": "stdout",
     "output_type": "stream",
     "text": [
      "The maximum relative error of the simulated pi after 100 simulations with 1000 points each time is 3.870414372495213%\n"
     ]
    }
   ],
   "source": [
    "import random\n",
    "import math\n",
    "def pi_simulation_check():\n",
    "    sim = 0 # initialization for 100 simulations\n",
    "    final = [] # initilization of list relative errors for each simulation\n",
    "    while sim < 100:\n",
    "        n = 1000 # number of draws(points)\n",
    "        c = 0\n",
    "        s = 0\n",
    "        for num in range(0,n):\n",
    "            x = random.uniform(-1,1)\n",
    "            y = random.uniform(-1,1)\n",
    "            s = s + 1\n",
    "            if x**2 + y**2 < 1:\n",
    "                        c += 1\n",
    "        sim_pi = 4*c/s\n",
    "        error = (math.pi - sim_pi) # error calculation\n",
    "        rel_error = error/math.pi # relative error formula\n",
    "        sim += 1\n",
    "        final.append(rel_error)\n",
    "    #print(max(final))\n",
    "    mre = max(final) *100 # max of the relative errors\n",
    "    print(f\"The maximum relative error of the simulated pi after 100 simulations with 1000 points each time is {mre}%\")\n",
    "pi_simulation_check()"
   ]
  },
  {
   "cell_type": "markdown",
   "metadata": {},
   "source": [
    "### Conclusion\n",
    "\n",
    "**If the Maximum Relative error is less than 5% we have achieved a reasonable approximation of Pi value**"
   ]
  }
 ],
 "metadata": {
  "kernelspec": {
   "display_name": "Python 3",
   "language": "python",
   "name": "python3"
  },
  "language_info": {
   "codemirror_mode": {
    "name": "ipython",
    "version": 3
   },
   "file_extension": ".py",
   "mimetype": "text/x-python",
   "name": "python",
   "nbconvert_exporter": "python",
   "pygments_lexer": "ipython3",
   "version": "3.7.4"
  }
 },
 "nbformat": 4,
 "nbformat_minor": 4
}
